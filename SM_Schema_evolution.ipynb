{
 "cells": [
  {
   "cell_type": "code",
   "execution_count": 0,
   "metadata": {
    "application/vnd.databricks.v1+cell": {
     "cellMetadata": {
      "byteLimit": 2048000,
      "rowLimit": 10000
     },
     "inputWidgets": {},
     "nuid": "59d89ebe-fb39-45ca-a05a-234001b32410",
     "showTitle": false,
     "tableResultSettingsMap": {},
     "title": ""
    }
   },
   "outputs": [],
   "source": [
    "from pyspark.sql.functions import *\n",
    "from pyspark.sql.types import *\n",
    "import json\n",
    "import pandas as pd\n",
    "from datetime import datetime\n"
   ]
  },
  {
   "cell_type": "code",
   "execution_count": 0,
   "metadata": {
    "application/vnd.databricks.v1+cell": {
     "cellMetadata": {
      "byteLimit": 2048000,
      "rowLimit": 10000
     },
     "inputWidgets": {},
     "nuid": "57f96aaf-e367-47bf-a880-0c61d59de8fd",
     "showTitle": false,
     "tableResultSettingsMap": {},
     "title": ""
    }
   },
   "outputs": [],
   "source": [
    "tables_metadata = [\n",
    "    {\"table_name\": \"customers\", \"path\": \"abfss://bronze@migrationstoragerinith.dfs.core.windows.net/second_method/customers\"},\n",
    "    {\"table_name\": \"products\", \"path\": \"abfss://bronze@migrationstoragerinith.dfs.core.windows.net/second_method/products\"},\n",
    "    {\"table_name\": \"orders\", \"path\": \"abfss://bronze@migrationstoragerinith.dfs.core.windows.net/second_method/orders\"},\n",
    "    {\"table_name\": \"dates\", \"path\": \"abfss://bronze@migrationstoragerinith.dfs.core.windows.net/second_method/dates\"}\n",
    "]\n"
   ]
  },
  {
   "cell_type": "code",
   "execution_count": 0,
   "metadata": {
    "application/vnd.databricks.v1+cell": {
     "cellMetadata": {
      "byteLimit": 2048000,
      "rowLimit": 10000
     },
     "inputWidgets": {},
     "nuid": "cd1c7a1f-2fda-48e2-a46d-afb1223a4d7d",
     "showTitle": false,
     "tableResultSettingsMap": {},
     "title": ""
    }
   },
   "outputs": [],
   "source": [
    "from pyspark.sql.types import StructType\n",
    "import json\n",
    "\n",
    "def validate_schema(table_name, df_new):\n",
    "    schema_path = f\"abfss://schemafolder@migrationstoragerinith.dfs.core.windows.net/second_method/{table_name}_schema.json\"\n",
    "    \n",
    "    try:\n",
    "        # Read existing schema JSON from ADLS\n",
    "        baseline_json = (\n",
    "            spark.read.text(schema_path)\n",
    "            .collect()[0][0]\n",
    "        )\n",
    "        baseline_schema = StructType.fromJson(json.loads(baseline_json))\n",
    "        \n",
    "        # Compare columns\n",
    "        baseline_cols = set([f.name for f in baseline_schema.fields])\n",
    "        new_cols = set(df_new.columns)\n",
    "        \n",
    "        added_cols = new_cols - baseline_cols\n",
    "        removed_cols = baseline_cols - new_cols\n",
    "\n",
    "        if added_cols or removed_cols:\n",
    "             raise Exception(f\" Schema drift in `{table_name}`:\\n Added: {added_cols}\\n Removed: {removed_cols}\")\n",
    "        else:\n",
    "            print(f\"Schema matches for `{table_name}`\")\n",
    "\n",
    "    except Exception as e:\n",
    "        print(f\"⚠️ No baseline schema found or error occurred: {e}\")\n",
    "        print(f\"🔁 Saving new schema for `{table_name}`\")\n",
    "\n",
    "        schema_json = df_new.schema.json()\n",
    "\n",
    "        # Save as JSON string using Spark (correctly to ADLS)\n",
    "        spark.createDataFrame([(schema_json,)], [\"schema\"]) \\\n",
    "            .write.mode(\"overwrite\") \\\n",
    "            .text(schema_path)\n",
    "\n",
    "\n",
    "\n",
    "\n",
    "\n",
    "\n"
   ]
  },
  {
   "cell_type": "code",
   "execution_count": 0,
   "metadata": {
    "application/vnd.databricks.v1+cell": {
     "cellMetadata": {
      "byteLimit": 2048000,
      "rowLimit": 10000
     },
     "inputWidgets": {},
     "nuid": "0df0d852-1bb1-4c12-921d-669897d03307",
     "showTitle": false,
     "tableResultSettingsMap": {},
     "title": ""
    }
   },
   "outputs": [],
   "source": [
    "for table in tables_metadata:\n",
    "    table_name = table[\"table_name\"]\n",
    "    path = table[\"path\"]\n",
    "\n",
    "    try:\n",
    "        df = spark.read.option(\"header\", True).csv(path)\n",
    "        validate_schema(table_name, df)\n",
    "        print(f\"Processed schema check for: {table_name}\")\n",
    "    except Exception as e:\n",
    "        print(f\"Failed for {table_name}: {str(e)}\")"
   ]
  }
 ],
 "metadata": {
  "application/vnd.databricks.v1+notebook": {
   "computePreferences": null,
   "dashboards": [],
   "environmentMetadata": {
    "base_environment": "",
    "environment_version": "2"
   },
   "inputWidgetPreferences": null,
   "language": "python",
   "notebookMetadata": {
    "pythonIndentUnit": 4
   },
   "notebookName": "SM_Schema_evolution",
   "widgets": {}
  },
  "language_info": {
   "name": "python"
  }
 },
 "nbformat": 4,
 "nbformat_minor": 0
}
