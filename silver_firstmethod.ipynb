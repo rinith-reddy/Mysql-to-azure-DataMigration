{
 "cells": [
  {
   "cell_type": "code",
   "execution_count": 0,
   "metadata": {
    "application/vnd.databricks.v1+cell": {
     "cellMetadata": {
      "byteLimit": 2048000,
      "rowLimit": 10000
     },
     "inputWidgets": {},
     "nuid": "979351a7-9152-47d5-8b54-684e0d74ee7c",
     "showTitle": false,
     "tableResultSettingsMap": {},
     "title": ""
    }
   },
   "outputs": [],
   "source": [
    "from pyspark.sql.functions import *\n",
    "from pyspark.sql.types import *\n",
    "import json\n",
    "import pandas as pd\n",
    "from datetime import datetime\n"
   ]
  },
  {
   "cell_type": "code",
   "execution_count": 0,
   "metadata": {
    "application/vnd.databricks.v1+cell": {
     "cellMetadata": {
      "byteLimit": 2048000,
      "rowLimit": 10000
     },
     "inputWidgets": {},
     "nuid": "9ecb5c52-43dd-4272-bd17-f63057c2ab51",
     "showTitle": false,
     "tableResultSettingsMap": {},
     "title": ""
    }
   },
   "outputs": [],
   "source": [
    "dbutils.fs.ls(\"abfss://schemafolder@migrationstoragerinith.dfs.core.windows.net/first_method\")"
   ]
  },
  {
   "cell_type": "markdown",
   "metadata": {
    "application/vnd.databricks.v1+cell": {
     "cellMetadata": {
      "byteLimit": 2048000,
      "rowLimit": 10000
     },
     "inputWidgets": {},
     "nuid": "b280cdbf-a22b-4b2b-8afa-2610559f5e97",
     "showTitle": false,
     "tableResultSettingsMap": {},
     "title": ""
    }
   },
   "source": [
    "### Schema Evolution checking if any schema changes "
   ]
  },
  {
   "cell_type": "code",
   "execution_count": 0,
   "metadata": {
    "application/vnd.databricks.v1+cell": {
     "cellMetadata": {
      "byteLimit": 2048000,
      "rowLimit": 10000
     },
     "inputWidgets": {},
     "nuid": "b185e21e-afbf-45b3-896a-5fb8bdb719d1",
     "showTitle": false,
     "tableResultSettingsMap": {},
     "title": ""
    }
   },
   "outputs": [],
   "source": [
    "tables_metadata = [\n",
    "    {\"table_name\": \"orders\", \"path\": \"abfss://bronze@migrationstoragerinith.dfs.core.windows.net/first_method/orders\"},\n",
    "]\n"
   ]
  },
  {
   "cell_type": "code",
   "execution_count": 0,
   "metadata": {
    "application/vnd.databricks.v1+cell": {
     "cellMetadata": {
      "byteLimit": 2048000,
      "rowLimit": 10000
     },
     "inputWidgets": {},
     "nuid": "72f16453-1fe1-4e24-a0b3-8d612a83e91b",
     "showTitle": false,
     "tableResultSettingsMap": {},
     "title": ""
    }
   },
   "outputs": [],
   "source": [
    "from pyspark.sql.types import StructType\n",
    "import json\n",
    "\n",
    "def validate_schema(table_name, df_new):\n",
    "    schema_path = f\"abfss://schemafolder@migrationstoragerinith.dfs.core.windows.net/first_method/{table_name}_schema.json\"\n",
    "    \n",
    "    try:\n",
    "        # Read existing schema JSON from ADLS\n",
    "        baseline_json = (\n",
    "            spark.read.text(schema_path)\n",
    "            .collect()[0][0]\n",
    "        )\n",
    "        baseline_schema = StructType.fromJson(json.loads(baseline_json))\n",
    "        \n",
    "        # Compare columns\n",
    "        baseline_cols = set([f.name for f in baseline_schema.fields])\n",
    "        new_cols = set(df_new.columns)\n",
    "        \n",
    "        added_cols = new_cols - baseline_cols\n",
    "        removed_cols = baseline_cols - new_cols\n",
    "\n",
    "        if added_cols or removed_cols:\n",
    "             Exception(f\" Schema drift in `{table_name}`:\\n Added: {added_cols}\\n Removed: {removed_cols}\")\n",
    "        else:\n",
    "            print(f\"Schema matches for `{table_name}`\")\n",
    "\n",
    "    except Exception as e:\n",
    "        print(f\"⚠️ No baseline schema found or error occurred: {e}\")\n",
    "        print(f\"🔁 Saving new schema for `{table_name}`\")\n",
    "\n",
    "        schema_json = df_new.schema.json()\n",
    "\n",
    "        # Save as JSON string using Spark (correctly to ADLS)\n",
    "        spark.createDataFrame([(schema_json,)], [\"schema\"]) \\\n",
    "            .write.mode(\"overwrite\") \\\n",
    "            .text(schema_path)"
   ]
  },
  {
   "cell_type": "code",
   "execution_count": 0,
   "metadata": {
    "application/vnd.databricks.v1+cell": {
     "cellMetadata": {
      "byteLimit": 2048000,
      "rowLimit": 10000
     },
     "inputWidgets": {},
     "nuid": "28c133cd-8822-4454-aba9-aa9a4480b175",
     "showTitle": false,
     "tableResultSettingsMap": {},
     "title": ""
    }
   },
   "outputs": [],
   "source": [
    "for table in tables_metadata:\n",
    "    table_name = table[\"table_name\"]\n",
    "    path = table[\"path\"]\n",
    "\n",
    "    try:\n",
    "        df = spark.read.option(\"header\", True).csv(path)\n",
    "        validate_schema(table_name, df)\n",
    "        print(f\"Processed schema check for: {table_name}\")\n",
    "    except Exception as e:\n",
    "        print(f\"Failed for {table_name}: {str(e)}\")\n"
   ]
  },
  {
   "cell_type": "code",
   "execution_count": 0,
   "metadata": {
    "application/vnd.databricks.v1+cell": {
     "cellMetadata": {
      "byteLimit": 2048000,
      "rowLimit": 10000
     },
     "inputWidgets": {},
     "nuid": "c24cbf33-0620-4321-9f5f-ad298b03349e",
     "showTitle": false,
     "tableResultSettingsMap": {},
     "title": ""
    }
   },
   "outputs": [],
   "source": [
    "path=\"abfss://bronze@migrationstoragerinith.dfs.core.windows.net/first_method/orders\"\n",
    "\n",
    "df=spark.read \\\n",
    "    .format(\"csv\") \\\n",
    "    .option(\"header\",True) \\\n",
    "    .option(\"inferschema\",True) \\\n",
    "    .load(path)\n",
    "\n",
    "\n",
    "print(df.columns)\n",
    "df.printSchema()"
   ]
  },
  {
   "cell_type": "markdown",
   "metadata": {
    "application/vnd.databricks.v1+cell": {
     "cellMetadata": {
      "byteLimit": 2048000,
      "rowLimit": 10000
     },
     "inputWidgets": {},
     "nuid": "4b648360-f121-4bd4-a145-65c5d6bef60a",
     "showTitle": false,
     "tableResultSettingsMap": {},
     "title": ""
    }
   },
   "source": [
    "### Clean column names\n"
   ]
  },
  {
   "cell_type": "code",
   "execution_count": 0,
   "metadata": {
    "application/vnd.databricks.v1+cell": {
     "cellMetadata": {
      "byteLimit": 2048000,
      "rowLimit": 10000
     },
     "inputWidgets": {},
     "nuid": "3e8fdca3-6ddc-460b-b306-75e92301b017",
     "showTitle": false,
     "tableResultSettingsMap": {},
     "title": ""
    }
   },
   "outputs": [],
   "source": [
    "import re\n",
    "\n",
    "def clean_colnames(df):\n",
    "    original_cols = df.columns\n",
    "    for colname in original_cols:\n",
    "        cleaned_name = re.sub(r\"[^\\w]\", \"_\", colname.strip().lower())\n",
    "        df = df.withColumnRenamed(colname, cleaned_name)\n",
    "    return df\n",
    "\n",
    "def clean_string_columns(df):\n",
    "    for col_name, dtype in df.dtypes:\n",
    "        if dtype == 'string':\n",
    "            df = df.withColumn(col_name, regexp_replace(trim(lower(col(col_name))), r'[^a-zA-Z0-9\\s]', ''))\n",
    "    return df\n",
    "\n",
    "def fill_missing(df, fill_dict):\n",
    "    return df.fillna(fill_dict)\n",
    "\n",
    "def remove_duplicates(df, subset_cols):\n",
    "    return df.dropDuplicates(subset=subset_cols)\n"
   ]
  },
  {
   "cell_type": "code",
   "execution_count": 0,
   "metadata": {
    "application/vnd.databricks.v1+cell": {
     "cellMetadata": {
      "byteLimit": 2048000,
      "rowLimit": 10000
     },
     "inputWidgets": {},
     "nuid": "a47979db-76d0-491c-9ddc-25327aab4e52",
     "showTitle": false,
     "tableResultSettingsMap": {},
     "title": ""
    }
   },
   "outputs": [],
   "source": [
    "df = spark.read.option(\"header\", True).csv(\"abfss://bronze@migrationstoragerinith.dfs.core.windows.net/first_method/orders\")\n",
    "df = clean_colnames(df)\n",
    "\n",
    "# DROP if critical IDs are missing\n",
    "df = df.dropna(subset=[\"order_id\", \"customer_id\", \"product_id\"])\n",
    "\n",
    "cast_columns = {\n",
    "    \"order_id\": \"int\",\n",
    "    \"order_uuid\": \"string\",\n",
    "    \"order_date\": \"date\",\n",
    "    \"order_status\": \"string\",\n",
    "    \"payment_method\": \"string\",\n",
    "    \"store_id\": \"int\",\n",
    "    \"year\": \"int\",\n",
    "    \"month\": \"int\",\n",
    "    \"month_name\": \"string\",\n",
    "    \"week\": \"int\",\n",
    "    \"day\": \"int\",\n",
    "    \"day_of_week\": \"string\",\n",
    "    \"day_name\": \"string\",\n",
    "    \"is_weekend\": \"boolean\",\n",
    "    \"customer_id\": \"int\",\n",
    "    \"first_name\": \"string\",\n",
    "    \"last_name\": \"string\",\n",
    "    \"email\": \"string\",\n",
    "    \"phone\": \"string\",\n",
    "    \"address\": \"string\",\n",
    "    \"city\": \"string\",\n",
    "    \"state\": \"string\",\n",
    "    \"zip_code\": \"int\",\n",
    "    \"age\": \"int\",                # Changed from float → int for better validation and consistency\n",
    "    \"gender\": \"string\",\n",
    "    \"annual_income\": \"float\",\n",
    "    \"customer_since\": \"date\",\n",
    "    \"loyalty_tier\": \"string\",\n",
    "    \"preferred_category\": \"string\",\n",
    "    \"product_id\": \"int\",\n",
    "    \"product_name\": \"string\",\n",
    "    \"category\": \"string\",\n",
    "    \"brand\": \"string\",\n",
    "    \"sku\": \"string\",\n",
    "    \"weight_lbs\": \"float\",\n",
    "    \"dimensions\": \"string\",\n",
    "    \"in_stock\": \"boolean\",\n",
    "    \"quantity\": \"int\",\n",
    "    \"unit_price\": \"float\",\n",
    "    \"line_total\": \"float\",\n",
    "    \"order_subtotal\": \"float\",\n",
    "    \"discount_percent\": \"int\",\n",
    "    \"discount_amount\": \"float\",\n",
    "    \"tax_rate\": \"float\",\n",
    "    \"tax_amount\": \"float\",\n",
    "    \"shipping_cost\": \"float\",\n",
    "    \"total_amount\": \"float\"\n",
    "}\n",
    "\n",
    "\n",
    "\n",
    "\n",
    "\n",
    "for col_name, dtype in cast_columns.items():\n",
    "    if col_name in df.columns:\n",
    "        df = df.withColumn(col_name, col(col_name).cast(dtype))\n",
    "\n",
    "# DATE fields\n",
    "if \"customer_since\" in df.columns:\n",
    "    df = df.withColumn(\"customer_since\", to_date(col(\"customer_since\"), \"yyyy-MM-dd\"))\n",
    "if \"date\" in df.columns:\n",
    "    df = df.withColumn(\"date\", to_date(col(\"date\"), \"yyyy-MM-dd\"))\n",
    "\n",
    "# GENDER Standardization\n",
    "if \"gender\" in df.columns:\n",
    "    gender_map = {'m': 'Male', 'male': 'Male', 'f': 'Female', 'female': 'Female'}\n",
    "    df = df.withColumn(\"gender\", lower(col(\"gender\")))\n",
    "    df = df.replace(gender_map, subset=[\"gender\"])\n",
    "\n",
    "# PAYMENT METHOD & ORDER STATUS Standardization\n",
    "if \"payment_method\" in df.columns:\n",
    "    payment_map = {\n",
    "        \"credit card\": \"Credit Card\", \"cash\": \"Cash\", \"paypal\": \"PayPal\", \n",
    "        \"gift card\": \"Gift Card\", \"debit card\": \"Debit Card\", \"debit\": \"Debit\"\n",
    "    }\n",
    "    df = df.withColumn(\"payment_method\", lower(trim(col(\"payment_method\"))))\n",
    "    df = df.replace(payment_map, subset=[\"payment_method\"])\n",
    "\n",
    "if \"order_status\" in df.columns:\n",
    "    status_map = {\n",
    "        \"completed\": \"Completed\", \"shipped\": \"Shipped\", \"cancelled\": \"Cancelled\",\n",
    "        \"returned\": \"Returned\", \"processing\": \"Processing\"\n",
    "    }\n",
    "    df = df.withColumn(\"order_status\", lower(trim(col(\"order_status\"))))\n",
    "    df = df.replace(status_map, subset=[\"order_status\"])\n",
    "\n",
    "# OUTLIERS\n",
    "if \"quantity\" in df.columns:\n",
    "    df = df.withColumn(\"quantity\", when((col(\"quantity\") <= 0) | (col(\"quantity\") > 100), None).otherwise(col(\"quantity\")))\n",
    "\n",
    "if \"price\" in df.columns:\n",
    "    df = df.withColumn(\"price\", when(col(\"price\") > 5000, 5000).otherwise(col(\"price\")))\n",
    "\n",
    "if \"age\" in df.columns:\n",
    "    df = df.withColumn(\"age\", when((col(\"age\") < 18) | (col(\"age\") > 90), None).otherwise(col(\"age\")))\n",
    "\n",
    "if \"annual_income\" in df.columns:\n",
    "    df = df.withColumn(\"annual_income\", when(col(\"annual_income\") < 10000.0, 10000)\n",
    "                                         .when(col(\"annual_income\") > 500000.0, 500000)\n",
    "                                         .otherwise(col(\"annual_income\")))\n",
    "\n",
    "# NULL FILLING\n",
    "fill_values = {\n",
    "    \"phone\": \"Not Provided\",\n",
    "    \"customer_id\": -1,\n",
    "    \"product_id\": -1\n",
    "}\n",
    "\n",
    "if \"phone\" in df.columns:\n",
    "    fill_values[\"phone\"] = \"Not Provided\"\n",
    "if \"brand\" in df.columns:\n",
    "    fill_values[\"brand\"] = \"Unknown\"\n",
    "df = fill_missing(df, fill_values)\n",
    "\n",
    "# REMOVE DUPLICATES\n",
    "df = clean_string_columns(df)\n",
    "\n"
   ]
  },
  {
   "cell_type": "code",
   "execution_count": 0,
   "metadata": {
    "application/vnd.databricks.v1+cell": {
     "cellMetadata": {
      "byteLimit": 2048000,
      "rowLimit": 10000
     },
     "inputWidgets": {},
     "nuid": "0b77d587-8d24-4f46-8a82-fec4183c0f97",
     "showTitle": false,
     "tableResultSettingsMap": {},
     "title": ""
    }
   },
   "outputs": [],
   "source": [
    "dim_customer = df.select(\n",
    "    \"customer_id\",\n",
    "    \"first_name\",\n",
    "    \"gender\",\n",
    "    \"age\",\n",
    "    \"annual_income\",\n",
    "    \"customer_since\",\n",
    "    \"loyalty_tier\",\n",
    "    \"address\",\n",
    "    \"city\",\n",
    "    \"state\",\n",
    "    \"zip_code\",\n",
    "    \"phone\"\n",
    ").dropDuplicates([\"customer_id\"])\n",
    "\n"
   ]
  },
  {
   "cell_type": "code",
   "execution_count": 0,
   "metadata": {
    "application/vnd.databricks.v1+cell": {
     "cellMetadata": {
      "byteLimit": 2048000,
      "rowLimit": 10000
     },
     "inputWidgets": {},
     "nuid": "dc564432-ca02-4ba2-ab1a-90319468f9bc",
     "showTitle": false,
     "tableResultSettingsMap": {},
     "title": ""
    }
   },
   "outputs": [],
   "source": [
    "dim_product = df.select(\n",
    "    \"product_id\",\n",
    "    \"product_name\",\n",
    "    \"category\",        # previously might've been \"product_category\"\n",
    "    \"unit_price\"       # renamed from \"product_price\"\n",
    ").dropDuplicates([\"product_id\"])\n"
   ]
  },
  {
   "cell_type": "code",
   "execution_count": 0,
   "metadata": {
    "application/vnd.databricks.v1+cell": {
     "cellMetadata": {
      "byteLimit": 2048000,
      "rowLimit": 10000
     },
     "inputWidgets": {},
     "nuid": "640e185f-426c-429d-95fe-8f1ba3d8053c",
     "showTitle": false,
     "tableResultSettingsMap": {},
     "title": ""
    }
   },
   "outputs": [],
   "source": [
    "dim_date = df.select(\"order_date\").dropDuplicates() \\\n",
    "    .withColumn(\"date_key\", to_date(col(\"order_date\"), \"yyyy-MM-dd\")) \\\n",
    "    .withColumn(\"year\", year(col(\"date_key\"))) \\\n",
    "    .withColumn(\"month\", month(col(\"date_key\"))) \\\n",
    "    .withColumn(\"day\", dayofmonth(col(\"date_key\"))) \\\n",
    "    .withColumn(\"day_of_week\", dayofweek(col(\"date_key\"))) \\\n",
    "    .withColumn(\"quarter\", quarter(col(\"date_key\")))\n"
   ]
  },
  {
   "cell_type": "code",
   "execution_count": 0,
   "metadata": {
    "application/vnd.databricks.v1+cell": {
     "cellMetadata": {
      "byteLimit": 2048000,
      "rowLimit": 10000
     },
     "inputWidgets": {},
     "nuid": "0d5ea736-6567-4ef9-bdd3-2b2f1e2ac7bc",
     "showTitle": false,
     "tableResultSettingsMap": {},
     "title": ""
    }
   },
   "outputs": [],
   "source": [
    "fact_orders = df.select(\n",
    "    \"order_id\",\n",
    "    \"customer_id\",\n",
    "    \"product_id\",\n",
    "    \"order_date\",\n",
    "    \"quantity\",\n",
    "    \"line_total\",\n",
    "    \"discount_percent\",\n",
    "    \"tax_rate\",\n",
    "    \"shipping_cost\",\n",
    "    \"total_amount\",\n",
    "    \"payment_method\"\n",
    ")\n"
   ]
  },
  {
   "cell_type": "code",
   "execution_count": 0,
   "metadata": {
    "application/vnd.databricks.v1+cell": {
     "cellMetadata": {
      "byteLimit": 2048000,
      "rowLimit": 10000
     },
     "inputWidgets": {},
     "nuid": "612d532d-5af4-4d89-9e0c-7530668ef109",
     "showTitle": false,
     "tableResultSettingsMap": {},
     "title": ""
    }
   },
   "outputs": [],
   "source": [
    "\n",
    "dim_customer.write \\\n",
    "            .format(\"delta\") \\\n",
    "            .mode(\"overwrite\") \\\n",
    "            .save(\"abfss://silver@migrationstoragerinith.dfs.core.windows.net/first_method/customers/\")\n"
   ]
  },
  {
   "cell_type": "code",
   "execution_count": 0,
   "metadata": {
    "application/vnd.databricks.v1+cell": {
     "cellMetadata": {
      "byteLimit": 2048000,
      "rowLimit": 10000
     },
     "inputWidgets": {},
     "nuid": "2fcc1329-2a1d-47de-95c9-44998769f6ab",
     "showTitle": false,
     "tableResultSettingsMap": {},
     "title": ""
    }
   },
   "outputs": [],
   "source": [
    "fact_orders.write.format(\"delta\").mode(\"overwrite\").save(\"abfss://silver@migrationstoragerinith.dfs.core.windows.net/first_method/orders/\")\n"
   ]
  },
  {
   "cell_type": "code",
   "execution_count": 0,
   "metadata": {
    "application/vnd.databricks.v1+cell": {
     "cellMetadata": {
      "byteLimit": 2048000,
      "rowLimit": 10000
     },
     "inputWidgets": {},
     "nuid": "31f95156-1de6-4c4a-b5c2-0cd604bba62e",
     "showTitle": false,
     "tableResultSettingsMap": {},
     "title": ""
    }
   },
   "outputs": [],
   "source": [
    "dim_date.write.format(\"delta\").mode(\"overwrite\").save(\"abfss://silver@migrationstoragerinith.dfs.core.windows.net/first_method/date/\")\n"
   ]
  },
  {
   "cell_type": "code",
   "execution_count": 0,
   "metadata": {
    "application/vnd.databricks.v1+cell": {
     "cellMetadata": {
      "byteLimit": 2048000,
      "rowLimit": 10000
     },
     "inputWidgets": {},
     "nuid": "35f13872-8109-4066-b7f2-346bf8dba481",
     "showTitle": false,
     "tableResultSettingsMap": {},
     "title": ""
    }
   },
   "outputs": [],
   "source": [
    "dim_product.write.format(\"delta\").mode(\"overwrite\").save(\"abfss://silver@migrationstoragerinith.dfs.core.windows.net/first_method/products/\")\n"
   ]
  },
  {
   "cell_type": "code",
   "execution_count": 0,
   "metadata": {
    "application/vnd.databricks.v1+cell": {
     "cellMetadata": {},
     "inputWidgets": {},
     "nuid": "e4dc2ef3-10a5-4a06-bbf0-fd4600e4660a",
     "showTitle": false,
     "tableResultSettingsMap": {},
     "title": ""
    }
   },
   "outputs": [],
   "source": []
  },
  {
   "cell_type": "markdown",
   "metadata": {
    "application/vnd.databricks.v1+cell": {
     "cellMetadata": {
      "byteLimit": 2048000,
      "rowLimit": 10000
     },
     "inputWidgets": {},
     "nuid": "b20aafbf-cb57-4a52-b643-369c7408d318",
     "showTitle": false,
     "tableResultSettingsMap": {},
     "title": ""
    }
   },
   "source": [
    "### Moving file into archive"
   ]
  },
  {
   "cell_type": "code",
   "execution_count": 0,
   "metadata": {
    "application/vnd.databricks.v1+cell": {
     "cellMetadata": {
      "byteLimit": 2048000,
      "rowLimit": 10000
     },
     "inputWidgets": {},
     "nuid": "9d362a8b-b2a4-4132-b46d-aa50f385f5c2",
     "showTitle": false,
     "tableResultSettingsMap": {},
     "title": ""
    }
   },
   "outputs": [],
   "source": [
    "current_date = datetime.now().strftime(\"%Y%m%d\")\n",
    "\n",
    "raw_file_path = \"abfss://bronze@migrationstoragerinith.dfs.core.windows.net/first_method/orders/orders.csv\"\n",
    "archived_path = f\"abfss://bronze@migrationstoragerinith.dfs.core.windows.net/first_method/archive/orders_{current_date}.csv\"\n",
    "\n",
    "dbutils.fs.mv(raw_file_path, archived_path)\n"
   ]
  }
 ],
 "metadata": {
  "application/vnd.databricks.v1+notebook": {
   "computePreferences": null,
   "dashboards": [],
   "environmentMetadata": {
    "base_environment": "",
    "environment_version": "2"
   },
   "inputWidgetPreferences": null,
   "language": "python",
   "notebookMetadata": {
    "pythonIndentUnit": 4
   },
   "notebookName": "silver_firstmethod",
   "widgets": {}
  },
  "language_info": {
   "name": "python"
  }
 },
 "nbformat": 4,
 "nbformat_minor": 0
}
